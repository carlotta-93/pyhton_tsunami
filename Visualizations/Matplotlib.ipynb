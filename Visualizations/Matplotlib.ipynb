{
 "cells": [
  {
   "cell_type": "markdown",
   "metadata": {
    "slideshow": {
     "slide_type": "slide"
    }
   },
   "source": [
    "<img src=\"../figures/HeaDS_logo_large_withTitle.png\" width=\"300\">\n",
    "\n",
    "<img src=\"../figures/tsunami_logo.png\" width=\"600\">\n",
    "\n",
    "[![Open In Colab](https://colab.research.google.com/assets/colab-badge.svg)](https://colab.research.google.com/github/Center-for-Health-Data-Science/PythonTsunami/blob/intro/Visualizations/Matplotlib.ipynb)"
   ]
  },
  {
   "cell_type": "markdown",
   "metadata": {
    "slideshow": {
     "slide_type": "slide"
    }
   },
   "source": [
    "# Matploblib\n",
    "\n",
    "*Prepared by Henry Webel at [NNF CPR](https://www.cpr.ku.dk/staff/rasmussen-group/?pure=en/persons/662319)  [![Twitter](https://img.shields.io/twitter/url/https/twitter.com/cloudposse.svg?style=social&label=Follow%20%40Henrywebel)](https://twitter.com/henrywebel)\n",
    "  - Pre-requisites: Python Intro, NumPy, minimal Pandas"
   ]
  },
  {
   "cell_type": "markdown",
   "metadata": {
    "slideshow": {
     "slide_type": "subslide"
    }
   },
   "source": [
    "## Colab: Saving the notebook in Drive, TOC and updating one library\n",
    "Save a copy in your drive if you want to save your changes: `File` -> `Save a copy in Drive`\n",
    "\n",
    "\n",
    "![Save Colab Notebook in Google Drive](../figures/colab_save_in_drive.png)\n",
    "\n",
    "or \n",
    "\n",
    "![Save Colab Notebook in Google Drive](../figures/colab_save_in_drive_2.png)\n"
   ]
  },
  {
   "cell_type": "markdown",
   "metadata": {
    "slideshow": {
     "slide_type": "fragment"
    }
   },
   "source": [
    "**Table of Contents in Colab**\n",
    "> Allows easier navigation\n",
    "\n",
    "![Table of content in Colab](../figures/colab_toc.png)"
   ]
  },
  {
   "cell_type": "code",
   "execution_count": null,
   "metadata": {
    "slideshow": {
     "slide_type": "fragment"
    }
   },
   "outputs": [],
   "source": [
    "import plotly\n",
    "if tuple(int(x) for x in plotly.__version__.split('.')) < (4,14):\n",
    "  !pip install plotly --upgrade\n",
    "  exit()"
   ]
  },
  {
   "cell_type": "markdown",
   "metadata": {
    "slideshow": {
     "slide_type": "fragment"
    }
   },
   "source": [
    "If the code in the `if`-claue runs, you will need to restart your runtime by pressing `RESTART RUNTIME`\n",
    "\n",
    "![Restart Colab runtime after installation](../figures/colab_restart_runtime_after_install.png)"
   ]
  },
  {
   "cell_type": "markdown",
   "metadata": {
    "slideshow": {
     "slide_type": "subslide"
    }
   },
   "source": [
    "## Tutorial selection\n",
    "- [cheat sheets](https://github.com/rougier/matplotlib-cheatsheet)\n",
    "- [SciPy 2019](https://github.com/story645/mpl_tutorial)\n",
    "- [Usage Guide](https://matplotlib.org/tutorials/introductory/usage.html#sphx-glr-tutorials-introductory-usage-py)\n",
    "- [The lifecycle of a plot](https://matplotlib.org/tutorials/introductory/lifecycle.html)\n",
    "- [All Tutorials from Matplotlib](https://matplotlib.org/tutorials/index.html)\n"
   ]
  },
  {
   "cell_type": "markdown",
   "metadata": {
    "slideshow": {
     "slide_type": "subslide"
    }
   },
   "source": [
    "## Objectives\n",
    "\n",
    "1. Matplotlibs two [APIs](https://matplotlib.org/3.1.1/api/index.html#usage-patterns): pyplot API vs object-orientated API like interface\n",
    "2. Distinction between figure, axes and axis\n",
    "3. labels, ticks, legends, annotations\n",
    "4. Some use-cases\n",
    "5. No confusion when you search for help on [stackoverflow](https://stackoverflow.com/questions/tagged/matplotlib)\n",
    "\n",
    "> The goal is not to introduce most parts of the API, but to make it accessible"
   ]
  },
  {
   "cell_type": "markdown",
   "metadata": {
    "slideshow": {
     "slide_type": "slide"
    }
   },
   "source": [
    "## [Matplotlib](https://matplotlib.org/3.1.1/index.html)\n",
    "\n",
    "- versatile set of instruction for plotting figures\n",
    "- widely used by third party libraries\n",
    "- supports many [backends](https://matplotlib.org/tutorials/introductory/usage.html#backends) (application, machine or operating system specific)"
   ]
  },
  {
   "cell_type": "code",
   "execution_count": null,
   "metadata": {
    "slideshow": {
     "slide_type": "fragment"
    }
   },
   "outputs": [],
   "source": [
    "import matplotlib\n",
    "\n",
    "matplotlib.__version__"
   ]
  },
  {
   "cell_type": "code",
   "execution_count": null,
   "metadata": {
    "slideshow": {
     "slide_type": "fragment"
    }
   },
   "outputs": [],
   "source": [
    "matplotlib.get_backend()"
   ]
  },
  {
   "cell_type": "markdown",
   "metadata": {
    "slideshow": {
     "slide_type": "subslide"
    }
   },
   "source": [
    "## Definitions\n",
    "\n",
    "- A *figure* in common language would probably not suggest the (painful?) _automated programming interface_ (API) naming\n",
    "  - A *figure* can contain multiple **ax*e*s** (subplots), each of which in a 2D plot has two [**ax*e*s**](https://dictionary.cambridge.org/dictionary/english/axis) (which in singular are the **x-axis** and **y-axis**)\n",
    "  - axes and axis are sometimes hard to distinguish when spoken ([check pronunciation](https://dictionary.cambridge.org/dictionary/english/axis))\n",
    "\n",
    "![Figure, Axes and Axis](../figures/matplotlib/fig_axes_axis.png)"
   ]
  },
  {
   "cell_type": "markdown",
   "metadata": {
    "slideshow": {
     "slide_type": "slide"
    }
   },
   "source": [
    "## Matplotlib API\n",
    "\n",
    "- `pyplot` global functionality is a copy of `matlab`-plotting functionality.\n",
    "- recommendation by matplotlib: Use object orientated plotting, see [usage guide](https://matplotlib.org/3.1.1/tutorials/introductory/usage.html#figure)\n",
    "\n",
    "> An **application programming interface (API)** is a computing interface which defines interactions between multiple software intermediaries. It defines the kinds of calls or requests that can be made, how to make them, the data formats that should be used, the conventions to follow, etc. It can also provide extension mechanisms so that users can extend existing functionality in various ways and to varying degrees.[1] An API can be entirely custom, specific to a component, or it can be designed based on an industry-standard to ensure interoperability. Through information hiding, APIs enable modular programming, which allows users to use the interface independently of the implementation. ([Wikipedia](https://en.wikipedia.org/wiki/API))\n",
    ">  \n",
    ">Loosely defined, API describes everything an application programmer needs to know about piece of code to know how to use it. ([wiki.python.org](https://wiki.python.org/moin/API#:~:text=API%20is%20a%20shortcut%20for,know%20how%20to%20use%20it.))\n",
    ">\n",
    "> [5min Video on APIs](https://www.youtube.com/watch?v=GZvSYJDk-us&t=471s)"
   ]
  },
  {
   "cell_type": "markdown",
   "metadata": {
    "slideshow": {
     "slide_type": "subslide"
    }
   },
   "source": [
    "### Example\n",
    "\n",
    "1. `pyplot` plotting\n",
    "2. Object Orientated plotting\n",
    "\n",
    "    \n",
    "> We do not plot data just yet, but only create the objects needed for plotting"
   ]
  },
  {
   "cell_type": "markdown",
   "metadata": {
    "slideshow": {
     "slide_type": "subslide"
    }
   },
   "source": [
    "### Pyplot-API"
   ]
  },
  {
   "cell_type": "code",
   "execution_count": null,
   "metadata": {
    "slideshow": {
     "slide_type": "fragment"
    }
   },
   "outputs": [],
   "source": [
    "import matplotlib.pyplot as plt\n",
    "\n",
    "fig = plt.figure()\n",
    "ax = plt.subplot()"
   ]
  },
  {
   "cell_type": "markdown",
   "metadata": {
    "slideshow": {
     "slide_type": "fragment"
    }
   },
   "source": [
    "> `matplotlib.pyplot` or `plt` commands always apply to the \"current\" figure or axes. "
   ]
  },
  {
   "cell_type": "markdown",
   "metadata": {
    "slideshow": {
     "slide_type": "subslide"
    }
   },
   "source": [
    "### Object-Oriented API"
   ]
  },
  {
   "cell_type": "code",
   "execution_count": null,
   "metadata": {
    "scrolled": true,
    "slideshow": {
     "slide_type": "fragment"
    }
   },
   "outputs": [],
   "source": [
    "import matplotlib\n",
    "\n",
    "fig = matplotlib.figure.Figure()\n",
    "ax = fig.add_subplot(1, 1, 1)\n",
    "fig"
   ]
  },
  {
   "cell_type": "markdown",
   "metadata": {
    "slideshow": {
     "slide_type": "fragment"
    }
   },
   "source": [
    "> methods of objects (instances of a class) are used  \n",
    "> Most methods have an equivalent function in `plt` omitting a \"set_\" or \"get_\" prefix, i.e. `get_\n",
    "\n",
    "- `add_` prefix for `suplot` in example here"
   ]
  },
  {
   "cell_type": "markdown",
   "metadata": {
    "slideshow": {
     "slide_type": "subslide"
    }
   },
   "source": [
    "### Mixing up both\n",
    "\n",
    "> This is in my impression the most common use  \n",
    "> Later both functions from `matplotlib.pyplot` as well as methods of `Axes` and `Figure` objects will be used."
   ]
  },
  {
   "cell_type": "code",
   "execution_count": null,
   "metadata": {
    "slideshow": {
     "slide_type": "fragment"
    }
   },
   "outputs": [],
   "source": [
    "import matplotlib.pyplot as plt\n",
    "\n",
    "fig, ax = plt.subplots()"
   ]
  },
  {
   "cell_type": "markdown",
   "metadata": {
    "slideshow": {
     "slide_type": "fragment"
    }
   },
   "source": [
    "> I use [`matplotlib.pyplot.subplots`](https://matplotlib.org/3.1.1/api/_as_gen/matplotlib.pyplot.subplots.html#matplotlib.pyplot.subplots) most of the times  \n",
    "> a `Figure` has the same function as a method [`matplotlib.figure.Figure.subplots`](https://matplotlib.org/3.1.0/api/_as_gen/matplotlib.figure.Figure.html#matplotlib.figure.Figure.subplots)\n",
    "- Idea: use a utility function to get a set of object instances."
   ]
  },
  {
   "cell_type": "code",
   "execution_count": null,
   "metadata": {
    "slideshow": {
     "slide_type": "fragment"
    }
   },
   "outputs": [],
   "source": [
    "# plt.subplots?  # see later section"
   ]
  },
  {
   "cell_type": "markdown",
   "metadata": {
    "slideshow": {
     "slide_type": "slide"
    }
   },
   "source": [
    "## Anatomy of a figure\n",
    "[code](https://matplotlib.org/3.1.1/gallery/showcase/anatomy.html)\n",
    "\n",
    "> Reference and Sneak Peak on what you can do\n",
    "\n",
    "![[Matplotlib Anatomoy of a Figure](https://matplotlib.org/3.1.1/gallery/showcase/anatomy.html)](https://matplotlib.org/3.1.1/_images/anatomy.png)"
   ]
  },
  {
   "cell_type": "markdown",
   "metadata": {
    "slideshow": {
     "slide_type": "subslide"
    }
   },
   "source": [
    "### Exercise and Playground: The plot without annotations\n",
    "\n",
    "Can be used both as reference and exercise\n",
    "1. Try to turn on and of some code to see what is changed\n",
    "2. How to do this using the `matplotlib.pyplot` API? (In the next cell we only use the Object-Oriented matplotlib API for now!)"
   ]
  },
  {
   "cell_type": "code",
   "execution_count": null,
   "metadata": {
    "slideshow": {
     "slide_type": "fragment"
    }
   },
   "outputs": [],
   "source": [
    "import matplotlib.pyplot as plt\n",
    "import numpy as np\n",
    "import pandas as pd\n",
    "from matplotlib.ticker import AutoMinorLocator, FuncFormatter, MultipleLocator\n",
    "\n",
    "# Numpy part - please skip\n",
    "np.random.seed(19680801)\n",
    "\n",
    "X = np.linspace(0.5, 3.5, 100)\n",
    "Y1 = 3 + np.cos(X)\n",
    "Y2 = 1 + np.cos(1 + X / 0.75) / 2\n",
    "Y3 = np.random.uniform(Y1, Y2, len(X))\n",
    "\n",
    "data = {'X': X, 'red_line': Y1, 'blue_line': Y2, 'circles': Y3}\n",
    "data = pd.DataFrame(data)\n",
    "data.head()"
   ]
  },
  {
   "cell_type": "code",
   "execution_count": null,
   "metadata": {
    "slideshow": {
     "slide_type": "fragment"
    }
   },
   "outputs": [],
   "source": [
    "# Matplotlib part\n",
    "fig = plt.figure(figsize=(8, 8))\n",
    "ax = fig.add_subplot(1, 1, 1, aspect=1)\n",
    "\n",
    "\n",
    "def minor_tick(x, pos):\n",
    "    if not x % 1.0:\n",
    "        return \"\"\n",
    "    return \"%.2f\" % x\n",
    "\n",
    "\n",
    "ax.xaxis.set_major_locator(MultipleLocator(1.000))\n",
    "ax.xaxis.set_minor_locator(AutoMinorLocator(4))\n",
    "ax.yaxis.set_major_locator(MultipleLocator(1.000))\n",
    "ax.yaxis.set_minor_locator(AutoMinorLocator(4))\n",
    "ax.xaxis.set_minor_formatter(FuncFormatter(minor_tick))\n",
    "\n",
    "ax.set_xlim(0, 4)\n",
    "ax.set_ylim(0, 4)\n",
    "\n",
    "ax.tick_params(which=\"major\", width=1.0)\n",
    "ax.tick_params(which=\"major\", length=10)\n",
    "ax.tick_params(which=\"minor\", width=1.0, labelsize=10)\n",
    "ax.tick_params(which=\"minor\", length=5, labelsize=10, labelcolor=\"0.25\")\n",
    "\n",
    "ax.grid(linestyle=\"--\", linewidth=0.5, color=\".25\", zorder=-10)\n",
    "\n",
    "ax.plot(X, Y1, c=(0.25, 0.25, 1.00), lw=2, label=\"Blue signal\", zorder=10)\n",
    "ax.plot(X, Y2, c=(1.00, 0.25, 0.25), lw=2, label=\"Red signal\")\n",
    "ax.plot(X, Y3, linewidth=0, marker=\"o\",\n",
    "        markerfacecolor=\"w\", markeredgecolor=\"k\")\n",
    "\n",
    "ax.set_title(\"Anatomy of a figure\", fontsize=20, verticalalignment=\"bottom\")\n",
    "ax.set_xlabel(\"X axis label\")\n",
    "ax.set_ylabel(\"Y axis label\")\n",
    "\n",
    "_ = ax.legend()"
   ]
  },
  {
   "cell_type": "markdown",
   "metadata": {
    "slideshow": {
     "slide_type": "fragment"
    }
   },
   "source": [
    "How to do this using the matplotlib.pyplot API?"
   ]
  },
  {
   "cell_type": "code",
   "execution_count": null,
   "metadata": {
    "slideshow": {
     "slide_type": "fragment"
    }
   },
   "outputs": [],
   "source": [
    "# plt.xlim() # Get or set the x limits of the current axes.\n",
    "# plt.xticks() # equivalent for current Axes ax.xaxis (check function signature) - both get and set possible!"
   ]
  },
  {
   "cell_type": "markdown",
   "metadata": {
    "slideshow": {
     "slide_type": "slide"
    }
   },
   "source": [
    "## Plotting Ecosystem\n",
    "\n",
    "Libraries using matplotlib\n",
    "- [seaborn ](https://seaborn.pydata.org/)\n",
    "- pandas `.plot`- method ([guide](https://pandas.pydata.org/pandas-docs/stable/user_guide/visualization.html), \n",
    "    [method-doc](https://pandas.pydata.org/pandas-docs/stable/reference/frame.html#plotting), \n",
    "    [plotting-sublibrary](https://pandas.pydata.org/pandas-docs/stable/reference/plotting.html))\n",
    "    \n",
    "> Claim: You will hardly use matplotlib directly, when your data is in a [`pandas.DataFrame`](https://pandas.pydata.org/pandas-docs/stable/reference/api/pandas.DataFrame.html)  \n",
    "> If you program in pure numpy this would be different.\n",
    "    "
   ]
  },
  {
   "cell_type": "code",
   "execution_count": null,
   "metadata": {
    "slideshow": {
     "slide_type": "fragment"
    }
   },
   "outputs": [],
   "source": [
    "import seaborn as sns\n",
    "\n",
    "sns.__version__"
   ]
  },
  {
   "cell_type": "code",
   "execution_count": null,
   "metadata": {
    "slideshow": {
     "slide_type": "fragment"
    }
   },
   "outputs": [],
   "source": [
    "import pandas as pd\n",
    "\n",
    "pd.__version__"
   ]
  },
  {
   "cell_type": "code",
   "execution_count": null,
   "metadata": {
    "slideshow": {
     "slide_type": "fragment"
    }
   },
   "outputs": [],
   "source": [
    "# pd.plotting?"
   ]
  },
  {
   "cell_type": "markdown",
   "metadata": {
    "slideshow": {
     "slide_type": "slide"
    }
   },
   "source": [
    "## Example using matplotlib, seaborn and pandas plotting together"
   ]
  },
  {
   "cell_type": "markdown",
   "metadata": {
    "slideshow": {
     "slide_type": "subslide"
    }
   },
   "source": [
    "### Data\n",
    "\n",
    "The data is accumulated death counts for the four nordic countries from covid. It was extracted from a dataset loading in a later section of this notebook."
   ]
  },
  {
   "cell_type": "code",
   "execution_count": null,
   "metadata": {
    "slideshow": {
     "slide_type": "fragment"
    }
   },
   "outputs": [],
   "source": [
    "# some accumulated death number for covid for four countries\n",
    "some_counts = {\n",
    "    'Denmark': {'20-07-31': 615,\n",
    "                '20-08-31': 624,\n",
    "                '20-09-30': 650,\n",
    "                '20-10-31': 721,\n",
    "                '20-11-30': 837,\n",
    "                '20-12-31': 1298,\n",
    "                '21-01-31': 2126,\n",
    "                '21-02-28': 2362,\n",
    "                '21-03-31': 2420,\n",
    "                '21-04-30': 2450},\n",
    "    'Finland': {'20-07-31': 329,\n",
    "                '20-08-31': 336,\n",
    "                '20-09-30': 344,\n",
    "                '20-10-31': 358,\n",
    "                '20-11-30': 399,\n",
    "                '20-12-31': 561,\n",
    "                '21-01-31': 671,\n",
    "                '21-02-28': 742,\n",
    "                '21-03-31': 844,\n",
    "                '21-04-30': 885},\n",
    "    'Norway': {'20-07-31': 255,\n",
    "               '20-08-31': 264,\n",
    "               '20-09-30': 274,\n",
    "               '20-10-31': 282,\n",
    "               '20-11-30': 332,\n",
    "               '20-12-31': 436,\n",
    "               '21-01-31': 564,\n",
    "               '21-02-28': 622,\n",
    "               '21-03-31': 673,\n",
    "               '21-04-30': 707},\n",
    "    'Sweden': {'20-07-31': 5743,\n",
    "               '20-08-31': 5821,\n",
    "               '20-09-30': 5893,\n",
    "               '20-10-31': 5938,\n",
    "               '20-11-30': 6681,\n",
    "               '20-12-31': 8727,\n",
    "               '21-01-31': 11591,\n",
    "               '21-02-28': 12826,\n",
    "               '21-03-31': 13465,\n",
    "               '21-04-30': 13761}\n",
    "}"
   ]
  },
  {
   "cell_type": "markdown",
   "metadata": {
    "slideshow": {
     "slide_type": "subslide"
    }
   },
   "source": [
    "### Figure with 4 subplots"
   ]
  },
  {
   "cell_type": "code",
   "execution_count": null,
   "metadata": {
    "slideshow": {
     "slide_type": "fragment"
    }
   },
   "outputs": [],
   "source": [
    "fig, axes = plt.subplots(nrows=2, ncols=2, figsize=(10, 10))\n",
    "axes"
   ]
  },
  {
   "cell_type": "markdown",
   "metadata": {
    "slideshow": {
     "slide_type": "subslide"
    }
   },
   "source": [
    "### Matplotlib bar plot\n",
    "\n",
    "- check [`axes` API](https://matplotlib.org/3.1.0/api/axes_api.html) documentation\n"
   ]
  },
  {
   "cell_type": "code",
   "execution_count": null,
   "metadata": {
    "slideshow": {
     "slide_type": "fragment"
    }
   },
   "outputs": [],
   "source": [
    "x = list(range(len(some_counts[\"Denmark\"].keys())))\n",
    "x"
   ]
  },
  {
   "cell_type": "code",
   "execution_count": null,
   "metadata": {
    "slideshow": {
     "slide_type": "fragment"
    }
   },
   "outputs": [],
   "source": [
    "y = list(some_counts[\"Denmark\"].values())\n",
    "y"
   ]
  },
  {
   "cell_type": "code",
   "execution_count": null,
   "metadata": {
    "slideshow": {
     "slide_type": "fragment"
    }
   },
   "outputs": [],
   "source": [
    "ax = axes[0, 0]\n",
    "ax.bar(x, y)"
   ]
  },
  {
   "cell_type": "code",
   "execution_count": null,
   "metadata": {
    "slideshow": {
     "slide_type": "fragment"
    }
   },
   "outputs": [],
   "source": [
    "fig"
   ]
  },
  {
   "cell_type": "markdown",
   "metadata": {
    "slideshow": {
     "slide_type": "subslide"
    }
   },
   "source": [
    "### Bar plot using Pandas"
   ]
  },
  {
   "cell_type": "code",
   "execution_count": null,
   "metadata": {
    "slideshow": {
     "slide_type": "fragment"
    }
   },
   "outputs": [],
   "source": [
    "df = pd.DataFrame(some_counts)\n",
    "df"
   ]
  },
  {
   "cell_type": "code",
   "execution_count": null,
   "metadata": {
    "slideshow": {
     "slide_type": "fragment"
    }
   },
   "outputs": [],
   "source": [
    "axes[0, 1].clear()\n",
    "df.plot(kind=\"bar\", ax=axes[0, 1], rot=45)"
   ]
  },
  {
   "cell_type": "code",
   "execution_count": null,
   "metadata": {
    "slideshow": {
     "slide_type": "fragment"
    }
   },
   "outputs": [],
   "source": [
    "fig"
   ]
  },
  {
   "cell_type": "markdown",
   "metadata": {
    "slideshow": {
     "slide_type": "subslide"
    }
   },
   "source": [
    "#### Side Note: Matplotlib also works with `pandas.DataFrames`\n",
    "\n",
    "> Don't use it. Use Pandas directly!"
   ]
  },
  {
   "cell_type": "code",
   "execution_count": null,
   "metadata": {
    "slideshow": {
     "slide_type": "fragment"
    }
   },
   "outputs": [],
   "source": [
    "axes[1, 0].bar(\n",
    "    x=np.arange(len(df)) - 0.2, height=\"Denmark\", width=0.2,\n",
    "    data=df\n",
    ")\n",
    "axes[1, 0].bar(\n",
    "    x=np.arange(len(df)), height=\"Norway\", width=0.2,\n",
    "    data=df\n",
    ")\n",
    "axes[1, 0].bar(\n",
    "    x=np.arange(len(df)) + 0.2, height=\"Finland\", width=0.2,\n",
    "    data=df\n",
    ")\n",
    "display(fig)\n",
    "axes[1, 0].clear()"
   ]
  },
  {
   "cell_type": "code",
   "execution_count": null,
   "metadata": {
    "slideshow": {
     "slide_type": "fragment"
    }
   },
   "outputs": [],
   "source": [
    "axes[1, 0].clear()\n",
    "fig"
   ]
  },
  {
   "cell_type": "markdown",
   "metadata": {
    "slideshow": {
     "slide_type": "subslide"
    }
   },
   "source": [
    "### Barplot in Seaborn\n",
    "\n",
    "- seaborn summarizes the data "
   ]
  },
  {
   "cell_type": "code",
   "execution_count": null,
   "metadata": {
    "slideshow": {
     "slide_type": "fragment"
    }
   },
   "outputs": [],
   "source": [
    "ax = axes[1,1]\n",
    "ax.clear()\n",
    "ax = sns.lineplot(data=df, ax=ax)\n",
    "fig"
   ]
  },
  {
   "cell_type": "code",
   "execution_count": null,
   "metadata": {
    "slideshow": {
     "slide_type": "fragment"
    }
   },
   "outputs": [],
   "source": [
    "_ = ax.set_xticks(ticks=ax.get_xticks())\n",
    "_ = ax.set_xticklabels(ax.get_xticklabels(), rotation=45)\n",
    "fig"
   ]
  },
  {
   "cell_type": "code",
   "execution_count": null,
   "metadata": {
    "slideshow": {
     "slide_type": "fragment"
    }
   },
   "outputs": [],
   "source": [
    "# sns.pairplot(data=df)"
   ]
  },
  {
   "cell_type": "markdown",
   "metadata": {
    "slideshow": {
     "slide_type": "fragment"
    }
   },
   "source": [
    "### Exercise: Plot something in the last subplot\n",
    "\n",
    "- You could look at `df.diff()` and plot the counts for each months"
   ]
  },
  {
   "cell_type": "code",
   "execution_count": null,
   "metadata": {
    "slideshow": {
     "slide_type": "fragment"
    }
   },
   "outputs": [],
   "source": [
    "print(axes)\n",
    "fig"
   ]
  },
  {
   "cell_type": "markdown",
   "metadata": {
    "slideshow": {
     "slide_type": "slide"
    }
   },
   "source": [
    "## Disgression: Interactive plots with plotly\n",
    "\n",
    "> There is an [extensive guide](https://towardsdatascience.com/visualization-with-plotly-express-comprehensive-guide-eb5ee4b50b57) available, adapted to be [run convientenly in colab](https://colab.research.google.com/github/Center-for-Health-Data-Science/PythonTsunami/blob/intro/Visualizations/PlotlyExpress_ComprehensiveGuide.ipynb)\n",
    "\n",
    "- `plotly.express` offers a convienient API to create plots, very much as the one from pandas."
   ]
  },
  {
   "cell_type": "code",
   "execution_count": null,
   "metadata": {
    "slideshow": {
     "slide_type": "fragment"
    }
   },
   "outputs": [],
   "source": [
    "import plotly.express as px\n",
    "px.line(df)"
   ]
  },
  {
   "cell_type": "code",
   "execution_count": null,
   "metadata": {
    "slideshow": {
     "slide_type": "fragment"
    }
   },
   "outputs": [],
   "source": [
    "fig_px = px.line(df,            \n",
    "        title=\"Range Slider\")\n",
    "fig_px.update_xaxes(rangeslider_visible=True)"
   ]
  },
  {
   "cell_type": "markdown",
   "metadata": {
    "slideshow": {
     "slide_type": "fragment"
    }
   },
   "source": [
    "- As explained in the reference article, plotly expects most of the time data in the so called long-format. \n",
    "- The original data was in long-format, so you wouldn't need to do the following data manipulations"
   ]
  },
  {
   "cell_type": "code",
   "execution_count": null,
   "metadata": {
    "slideshow": {
     "slide_type": "fragment"
    }
   },
   "outputs": [],
   "source": [
    "df_long = df.unstack()\n",
    "df_long.index.rename(['Country', 'Date'], inplace=True)\n",
    "df_long = df_long.to_frame(name='deaths')\n",
    "df_long = df_long.reset_index()\n",
    "df_long.head()"
   ]
  },
  {
   "cell_type": "code",
   "execution_count": null,
   "metadata": {
    "slideshow": {
     "slide_type": "fragment"
    }
   },
   "outputs": [],
   "source": [
    "fig_px = px.line(df_long, x='Date', y='deaths', color='Country')\n",
    "fig_px"
   ]
  },
  {
   "cell_type": "code",
   "execution_count": null,
   "metadata": {
    "slideshow": {
     "slide_type": "fragment"
    }
   },
   "outputs": [],
   "source": [
    "fig_px.update_xaxes(rangeslider_visible=True)"
   ]
  },
  {
   "cell_type": "markdown",
   "metadata": {
    "slideshow": {
     "slide_type": "fragment"
    }
   },
   "source": [
    "- For the rest, explore the [linked guide in colab](https://colab.research.google.com/github/Center-for-Health-Data-Science/PythonTsunami/blob/intro/Visualizations/PlotlyExpress_ComprehensiveGuide.ipynb)\n",
    "    - you can for example plot from pandas per default using plotly\n",
    "    ```python\n",
    "    import pandas as pd\n",
    "    pd.options.plotting.backend = \"plotly\" # set plotly as plotting backend\n",
    "    pd.options.plotting.backend = \"matplotlib\" # revert back\n",
    "    ```\n",
    "- An often mentioned alternative is [bokeh](https://docs.bokeh.org/en/latest/docs/first_steps.html)\n",
    "- there is even more...\n",
    "\n",
    "See a Python plotting tools overview from [this blog-article](https://pbpython.com/python-vis-flowchart.html)\n",
    "\n",
    "![Python plotting tools overview](Python-plot-tools.png)"
   ]
  },
  {
   "cell_type": "markdown",
   "metadata": {
    "slideshow": {
     "slide_type": "subslide"
    }
   },
   "source": [
    "### Exercise: Plot the data in a bar plot\n",
    "\n",
    "Have a look at the [documentation](https://plotly.com/python/plotly-express/). It can be run interactively using the launch [![Binder](https://mybinder.org/badge_logo.svg)](https://mybinder.org/v2/gh/plotly/plotly.py/doc-prod?filepath=doc%2Fpython%2Fplotly-express.md) tag on top right corner of the website."
   ]
  },
  {
   "cell_type": "code",
   "execution_count": null,
   "metadata": {
    "slideshow": {
     "slide_type": "fragment"
    }
   },
   "outputs": [],
   "source": []
  },
  {
   "cell_type": "markdown",
   "metadata": {
    "slideshow": {
     "slide_type": "slide"
    }
   },
   "source": [
    "## Extras: Some spotlights\n",
    "\n",
    "> Collection of options for figure layouts (tbc)\n",
    "\n",
    "**Back to Matplotlib**"
   ]
  },
  {
   "cell_type": "markdown",
   "metadata": {
    "slideshow": {
     "slide_type": "subslide"
    }
   },
   "source": [
    "### Save a plot to disk (drive)\n",
    "\n",
    "Often times you want to save a figure (containing one or more subplots to disk). This can be done using `matplotlib.Figure.savefig` method.\n",
    "\n",
    "Let's save the last sections `Figure` instance called fig."
   ]
  },
  {
   "cell_type": "code",
   "execution_count": null,
   "metadata": {
    "slideshow": {
     "slide_type": "fragment"
    }
   },
   "outputs": [],
   "source": [
    "fig.suptitle(\n",
    "    'Example using matplotlib, seaborn and pandas plotting interfaces in one figure', y=1.02)\n",
    "fig.tight_layout()\n",
    "fig"
   ]
  },
  {
   "cell_type": "markdown",
   "metadata": {
    "slideshow": {
     "slide_type": "fragment"
    }
   },
   "source": [
    "You can explicitly specify the figure format or just and the respective file-format."
   ]
  },
  {
   "cell_type": "code",
   "execution_count": null,
   "metadata": {
    "slideshow": {
     "slide_type": "fragment"
    }
   },
   "outputs": [],
   "source": [
    "fig.savefig(fname='my_first_saved_figure.pdf')"
   ]
  },
  {
   "cell_type": "markdown",
   "metadata": {
    "slideshow": {
     "slide_type": "fragment"
    }
   },
   "source": [
    "To see which formats your backend (\"canvas\") on your machine supports, run:"
   ]
  },
  {
   "cell_type": "code",
   "execution_count": null,
   "metadata": {
    "slideshow": {
     "slide_type": "fragment"
    }
   },
   "outputs": [],
   "source": [
    "fig.canvas.get_supported_filetypes()"
   ]
  },
  {
   "cell_type": "markdown",
   "metadata": {
    "slideshow": {
     "slide_type": "fragment"
    }
   },
   "source": [
    "In **colab** you can mount your drive to save figures to your personal drive folder"
   ]
  },
  {
   "cell_type": "code",
   "execution_count": null,
   "metadata": {
    "slideshow": {
     "slide_type": "fragment"
    }
   },
   "outputs": [],
   "source": [
    "# from google.colab import drive\n",
    "# drive.mount('/content/drive')"
   ]
  },
  {
   "cell_type": "markdown",
   "metadata": {
    "slideshow": {
     "slide_type": "subslide"
    }
   },
   "source": [
    "### `matplotlib.pyplot.subplots`\n",
    "\n",
    "- if sharing x-axis or y-axis is turned on, an object will be shared between subplots (axes). "
   ]
  },
  {
   "cell_type": "code",
   "execution_count": null,
   "metadata": {
    "slideshow": {
     "slide_type": "fragment"
    }
   },
   "outputs": [],
   "source": [
    "fig, axes = plt.subplots(\n",
    "    nrows=1, ncols=1, sharex=False, sharey=False, gridspec_kw=None, figsize=(10, 10)\n",
    ")"
   ]
  },
  {
   "cell_type": "code",
   "execution_count": null,
   "metadata": {
    "slideshow": {
     "slide_type": "fragment"
    }
   },
   "outputs": [],
   "source": [
    "# import matplotlib.pyplot as plt\n",
    "# import numpy as np\n",
    "fig, axes = plt.subplots(\n",
    "    nrows=2, ncols=2, sharex=True, sharey=True, gridspec_kw=None, figsize=(10, 10)\n",
    ")\n",
    "for _rows in axes:\n",
    "    for _ax in _rows:\n",
    "        _ax.hist(np.random.randn(500), bins=50, color=\"k\", alpha=0.5)\n",
    "plt.subplots_adjust(\n",
    "    left=None, bottom=None, right=None, top=None, wspace=None, hspace=None\n",
    ")  # gridspec_kw={'wspace': 0}"
   ]
  },
  {
   "cell_type": "markdown",
   "metadata": {
    "slideshow": {
     "slide_type": "subslide"
    }
   },
   "source": [
    "### `matplotlib.gridspec.GridSpec`"
   ]
  },
  {
   "cell_type": "code",
   "execution_count": null,
   "metadata": {
    "slideshow": {
     "slide_type": "fragment"
    }
   },
   "outputs": [],
   "source": [
    "_image = np.arange(7*7).reshape((7, 7))\n",
    "\n",
    "fig = plt.figure(figsize=(12, 8))\n",
    "gs = matplotlib.gridspec.GridSpec(nrows=1, ncols=2, width_ratios=[2, 1])\n",
    "ax1 = fig.add_subplot(gs[0, 0])\n",
    "ax1.set_title(\"one\", fontsize=14)\n",
    "ax1.imshow(_image)  # plot the 1st image\n",
    "ax1.axis(\"off\")\n",
    "ax2 = fig.add_subplot(gs[0, 1])\n",
    "ax2.set_title(\"Output\", fontsize=14)\n",
    "ax2.imshow(_image)  # plot the output for the 1st image\n",
    "ax2.axis(\"off\")\n",
    "plt.show()"
   ]
  },
  {
   "cell_type": "markdown",
   "metadata": {
    "slideshow": {
     "slide_type": "subslide"
    }
   },
   "source": [
    "#### Different sized subplots\n",
    "\n",
    "- see also tutorial on [grid specifications](https://matplotlib.org/3.1.1/tutorials/intermediate/gridspec.html)"
   ]
  },
  {
   "cell_type": "code",
   "execution_count": null,
   "metadata": {
    "slideshow": {
     "slide_type": "fragment"
    }
   },
   "outputs": [],
   "source": [
    "fig = plt.figure()\n",
    "# define axes [left, bottom, width, height] as fractions of figure width and height.\n",
    "frames = [[0.04, 0.08, 0.22, 0.90], [0.4, 0.08, 0.63, 0.90]]\n",
    "axes = (fig.add_axes(frames[0], frame_on=False),\n",
    "        fig.add_axes(frames[1], frame_on=True))"
   ]
  },
  {
   "cell_type": "code",
   "execution_count": null,
   "metadata": {
    "slideshow": {
     "slide_type": "fragment"
    }
   },
   "outputs": [],
   "source": [
    "fig, axes = plt.subplots(\n",
    "    ncols=2, gridspec_kw={\"width_ratios\": [5, 1], \"wspace\": 0.2}, figsize=(10, 4)\n",
    ")"
   ]
  },
  {
   "cell_type": "code",
   "execution_count": null,
   "metadata": {
    "slideshow": {
     "slide_type": "fragment"
    }
   },
   "outputs": [],
   "source": [
    "_ = axes[1].axis(\"off\")\n",
    "fig"
   ]
  },
  {
   "cell_type": "code",
   "execution_count": null,
   "metadata": {
    "slideshow": {
     "slide_type": "fragment"
    }
   },
   "outputs": [],
   "source": [
    "fig.clear()  # fig.clf()\n",
    "fig"
   ]
  },
  {
   "cell_type": "code",
   "execution_count": null,
   "metadata": {
    "slideshow": {
     "slide_type": "fragment"
    }
   },
   "outputs": [],
   "source": [
    "# import matplotlib.pyplot as plt\n",
    "from matplotlib import table\n",
    "\n",
    "fig, axes = plt.subplots(\n",
    "    ncols=2, gridspec_kw={\"width_ratios\": [5, 1], \"wspace\": 0.2}, figsize=(10, 4)\n",
    ")\n",
    "\n",
    "_counts_summed = pd.Series({0: 513823, 1: 219778, 2: 65228})\n",
    "_counts_summed.name = \"frequency\"\n",
    "\n",
    "ax = axes[0]\n",
    "_ = _counts_summed.plot(kind=\"bar\", ax=ax)\n",
    "ax.set_xlabel(\"peptides from n miscleavages\")\n",
    "ax.set_ylabel(\"frequency\")\n",
    "\n",
    "ax = axes[1]\n",
    "ax.axis(\"off\")\n",
    "_ = pd.plotting.table(\n",
    "    ax=ax, data=_counts_summed, loc=\"best\", colWidths=[1], edges=\"open\"\n",
    ")\n",
    "_ = fig.suptitle(\"Peptides frequencies\")"
   ]
  },
  {
   "cell_type": "code",
   "execution_count": null,
   "metadata": {
    "slideshow": {
     "slide_type": "fragment"
    }
   },
   "outputs": [],
   "source": []
  },
  {
   "cell_type": "markdown",
   "metadata": {
    "slideshow": {
     "slide_type": "subslide"
    }
   },
   "source": [
    "### Reusing code\n",
    "\n",
    "- define a function which takes as first argument an `axes` object: `myfunc(ax, ...)`\n",
    "- use only object-orientated matplotlib (OOM) API\n",
    "\n",
    "> Reference: [Coding Style](https://matplotlib.org/3.1.1/tutorials/introductory/usage.html#coding-styles) section in Usage Guide"
   ]
  },
  {
   "cell_type": "code",
   "execution_count": null,
   "metadata": {
    "slideshow": {
     "slide_type": "fragment"
    }
   },
   "outputs": [],
   "source": [
    "dict_results = {\n",
    "    (\"precision\", \"mean\"): {\"model_1\": 0.84698, \"model_2\": 0.78923},\n",
    "    (\"precision\", \"std\"): {\"model_1\": 0.05484, \"model_2\": 0.06584},\n",
    "    (\"recall\", \"mean\"): {\"model_1\": 0.94122, \"model_2\": 0.2425},\n",
    "    (\"recall\", \"std\"): {\"model_1\": 0.078694, \"model_2\": 0.08599},\n",
    "}\n",
    "df_results = pd.DataFrame(dict_results)\n",
    "df_results"
   ]
  },
  {
   "cell_type": "code",
   "execution_count": null,
   "metadata": {
    "slideshow": {
     "slide_type": "fragment"
    }
   },
   "outputs": [],
   "source": [
    "df_results.to_dict()"
   ]
  },
  {
   "cell_type": "code",
   "execution_count": null,
   "metadata": {
    "slideshow": {
     "slide_type": "fragment"
    }
   },
   "outputs": [],
   "source": [
    "def plot_performance(ax, result, metric, title, _process_index=None):\n",
    "    \"\"\"Plot mean and standard deviation (std) of metrics.\n",
    "\n",
    "    Parameters\n",
    "    ----------\n",
    "    ax : matplotlib.Axes\n",
    "        Axes to draw on.\n",
    "    result : pandas.DataFrame\n",
    "        results. Rows are models. Each metric has a mean and stddev in a MultiIndex\n",
    "        columns object of the type ('metric', ('mean', 'std'))\n",
    "    metric : str\n",
    "        The metric to select from the columns of the `result` DataFrame.\n",
    "    title : str     \n",
    "        Title of the axes\n",
    "    _process_index : function, optional\n",
    "        Function to process model names, by default None\n",
    "\n",
    "    Returns\n",
    "    -------\n",
    "    matplotlib.Axes \n",
    "        Return reference to the passed ax of the argument `ax`\n",
    "    \"\"\"\n",
    "    df = result\n",
    "    df = df.sort_values(by=[(metric, 'mean')])\n",
    "    colors = np.where([\"1\" in row for row in df.index], \"darkred\", \"white\")\n",
    "    if _process_index is not None:\n",
    "        df.index = _process_index(df.index)\n",
    "    y = df.index\n",
    "    width = df[(metric, \"mean\")]\n",
    "    xerr = df[(metric, \"std\")]\n",
    "    ax.set_xlim(0, 1.1)\n",
    "    ax.tick_params(labelsize=15)\n",
    "    ax.barh(\n",
    "        y=y,\n",
    "        width=width,\n",
    "        xerr=xerr,\n",
    "        capsize=4,\n",
    "        color=colors,\n",
    "        height=0.6,\n",
    "        edgecolor=\"black\",\n",
    "    )\n",
    "\n",
    "    metric_name = \" \".join(metric.split(\"_\")).capitalize()\n",
    "    if metric == \"f1\":\n",
    "        metric_name += \" score\"\n",
    "    ax.set_title(\"{}\\n{}\".format(title, metric_name), fontsize=15)\n",
    "    return ax"
   ]
  },
  {
   "cell_type": "code",
   "execution_count": null,
   "metadata": {
    "slideshow": {
     "slide_type": "fragment"
    }
   },
   "outputs": [],
   "source": [
    "fig, axes = plt.subplots(1, 2, sharey=True)\n",
    "ax = axes[1]\n",
    "_ = plot_performance(\n",
    "    ax=ax, result=df_results, metric=\"precision\", title=\"Precision with stddev\"\n",
    ")"
   ]
  },
  {
   "cell_type": "markdown",
   "metadata": {
    "slideshow": {
     "slide_type": "subslide"
    }
   },
   "source": [
    "#### Exercise\n",
    "- add the missing plot\n",
    "- Plot confidence interval (not the stderr)\n",
    "- Change to pandas plotting"
   ]
  },
  {
   "cell_type": "code",
   "execution_count": null,
   "metadata": {
    "slideshow": {
     "slide_type": "fragment"
    }
   },
   "outputs": [],
   "source": []
  },
  {
   "cell_type": "markdown",
   "metadata": {
    "slideshow": {
     "slide_type": "subslide"
    }
   },
   "source": [
    "### Reading the API specifications\n",
    "\n",
    "In my opinion Matplotlib does not have an easy to read function signatures (arguments description).\n",
    "  - some arguments are positional **only** (which allows for flexible arguments specification)\n",
    "  - derived clases \"hide\" a lot of options in **kwargs** (read: keyword arguments)\n",
    "  \n",
    "Lets have a look at [`matplotlib.axes.Axes.plot`](https://matplotlib.org/3.1.0/api/_as_gen/matplotlib.axes.Axes.plot.html#matplotlib.axes.Axes.plot) or [`matplotlib.figure.Figure`](https://matplotlib.org/3.1.0/api/_as_gen/matplotlib.figure.Figure.html#matplotlib.figure.Figure)"
   ]
  },
  {
   "cell_type": "code",
   "execution_count": null,
   "metadata": {
    "slideshow": {
     "slide_type": "fragment"
    }
   },
   "outputs": [],
   "source": [
    "fig, ax = plt.subplots()\n",
    "# ax.plot?"
   ]
  },
  {
   "cell_type": "markdown",
   "metadata": {
    "slideshow": {
     "slide_type": "slide"
    }
   },
   "source": [
    "## Gallery\n",
    "- Gallaries: [matplotlib](https://matplotlib.org/gallery), [seaborn](https://seaborn.pydata.org/examples/index.html), [pandas](https://pandas.pydata.org/pandas-docs/stable/user_guide/visualization.html), [plotly](https://plotly.com/python/), [python graph gallery](https://www.python-graph-gallery.com/)\n",
    "- check out some examples: [XKCD](https://matplotlib.org/3.1.1/gallery/showcase/xkcd.html#sphx-glr-gallery-showcase-xkcd-py)\n"
   ]
  },
  {
   "cell_type": "markdown",
   "metadata": {
    "slideshow": {
     "slide_type": "slide"
    }
   },
   "source": [
    "## Covid19 data\n",
    "\n",
    "Let's plot some Covid19 aggregates. \n",
    "\n",
    "- [COVID-19 repository with John Hopkins university data](https://github.com/datasets/covid-19)\n",
    "- [European Centre for Disease Prevention and Control (ECDC): Testing data](ecdc.europa.eu/en/publications-data/covid-19-testing) and [ECDC daily numbers worldwide](https://www.ecdc.europa.eu/en/publications-data/download-todays-data-geographic-distribution-covid-19-cases-worldwide)\n",
    "- [EU open data](https://data.europa.eu/euodp/en/data/dataset/covid-19-coronavirus-data) (not checked)"
   ]
  },
  {
   "cell_type": "markdown",
   "metadata": {
    "slideshow": {
     "slide_type": "subslide"
    }
   },
   "source": [
    "### John Hopkins university data\n",
    "- [COVID-19 repository with John Hopkins university data](https://github.com/datasets/covid-19)"
   ]
  },
  {
   "cell_type": "code",
   "execution_count": null,
   "metadata": {
    "slideshow": {
     "slide_type": "fragment"
    }
   },
   "outputs": [],
   "source": [
    "URL_COUNTRIES_AGG = \"https://raw.githubusercontent.com/datasets/covid-19/main/data/countries-aggregated.csv\"\n",
    "URL_REFERENCE = \"https://raw.githubusercontent.com/datasets/covid-19/main/data/reference.csv\"\n",
    "\n",
    "data_covid19 = pd.read_csv(URL_COUNTRIES_AGG, index_col=\"Date\")\n",
    "data_covid19.index = pd.to_datetime(data_covid19.index)\n",
    "data_covid19_reference = pd.read_csv(URL_REFERENCE)"
   ]
  },
  {
   "cell_type": "markdown",
   "metadata": {
    "slideshow": {
     "slide_type": "fragment"
    }
   },
   "source": [
    "Data is aggregated over time, giving totals on a given day."
   ]
  },
  {
   "cell_type": "code",
   "execution_count": null,
   "metadata": {
    "slideshow": {
     "slide_type": "fragment"
    }
   },
   "outputs": [],
   "source": [
    "data_covid19.sort_index().tail(15)"
   ]
  },
  {
   "cell_type": "code",
   "execution_count": null,
   "metadata": {
    "slideshow": {
     "slide_type": "fragment"
    }
   },
   "outputs": [],
   "source": [
    "mask = data_covid19.Country.unique()\n",
    "mask = data_covid19_reference.Combined_Key.isin(mask)\n",
    "\n",
    "population = data_covid19_reference.loc[mask, [\"Combined_Key\", \"Population\"]]\n",
    "population = population.set_index(\"Combined_Key\").dropna()\n",
    "population.index.name = \"Country\"\n",
    "population.sort_values(by=\"Population\", ascending=False).head(10).T / 1_000_000"
   ]
  },
  {
   "cell_type": "markdown",
   "metadata": {
    "slideshow": {
     "slide_type": "subslide"
    }
   },
   "source": [
    "#### Example data for combining Matplotlib, pandas and seaborn plotting above"
   ]
  },
  {
   "cell_type": "code",
   "execution_count": null,
   "metadata": {
    "slideshow": {
     "slide_type": "fragment"
    }
   },
   "outputs": [],
   "source": [
    "mask_nordics = data_covid19.Country.isin([\"Denmark\", \"Sweden\", \"Norway\", \"Finland\"])\n",
    "nordics = data_covid19[mask_nordics]\n",
    "nordics = nordics.pivot(columns=\"Country\", values=\"Deaths\")\n",
    "nordics.tail()"
   ]
  },
  {
   "cell_type": "code",
   "execution_count": null,
   "metadata": {
    "slideshow": {
     "slide_type": "fragment"
    }
   },
   "outputs": [],
   "source": [
    "nordics_monthly = nordics.resample(\"1M\").last()\n",
    "nordics_monthly.index = nordics_monthly.index.astype(\"string\") \n",
    "nordics_monthly.tail(10).to_dict()"
   ]
  },
  {
   "cell_type": "markdown",
   "metadata": {
    "slideshow": {
     "slide_type": "subslide"
    }
   },
   "source": [
    "### European Centre for Disease Prevention and Control (ECDC)\n",
    "\n",
    "- [European Centre for Disease Prevention and Control (ECDC): Testing data](ecdc.europa.eu/en/publications-data/covid-19-testing) and [ECDC daily numbers worldwide](https://www.ecdc.europa.eu/en/publications-data/download-todays-data-geographic-distribution-covid-19-cases-worldwide)"
   ]
  },
  {
   "cell_type": "code",
   "execution_count": null,
   "metadata": {
    "slideshow": {
     "slide_type": "fragment"
    }
   },
   "outputs": [],
   "source": [
    "url_ecdc_weekly_cases = \"https://opendata.ecdc.europa.eu/covid19/casedistribution/csv/data.csv\"\n",
    "url_ecdc_weekly_testing = \"https://opendata.ecdc.europa.eu/covid19/testing/csv\"\n",
    "\n",
    "ecdc_weekly_cases = pd.read_csv(\n",
    "    url_ecdc_weekly_cases, parse_dates=True, infer_datetime_format=True)\n",
    "ecdc_weekly_testing = pd.read_csv(url_ecdc_weekly_testing)"
   ]
  },
  {
   "cell_type": "code",
   "execution_count": null,
   "metadata": {
    "slideshow": {
     "slide_type": "fragment"
    }
   },
   "outputs": [],
   "source": [
    "ecdc_weekly_cases.head()"
   ]
  },
  {
   "cell_type": "code",
   "execution_count": null,
   "metadata": {
    "slideshow": {
     "slide_type": "fragment"
    }
   },
   "outputs": [],
   "source": [
    "ecdc_weekly_cases.dateRep = pd.to_datetime(ecdc_weekly_cases.dateRep)\n",
    "ecdc_weekly_cases.set_index('dateRep').head()  # not persistent"
   ]
  },
  {
   "cell_type": "code",
   "execution_count": null,
   "metadata": {
    "slideshow": {
     "slide_type": "fragment"
    }
   },
   "outputs": [],
   "source": [
    "ecdc_weekly_testing.tail()"
   ]
  },
  {
   "cell_type": "markdown",
   "metadata": {
    "slideshow": {
     "slide_type": "subslide"
    }
   },
   "source": [
    "### Open Excericse\n",
    "\n",
    "- select some countries, select one or more timepoints and plot some descriptive statistics.\n",
    "- just get into plotting, don't think too much about the data (do it, but don't get stuck!)"
   ]
  },
  {
   "cell_type": "code",
   "execution_count": null,
   "metadata": {
    "slideshow": {
     "slide_type": "fragment"
    }
   },
   "outputs": [],
   "source": [
    "# your plots"
   ]
  },
  {
   "cell_type": "markdown",
   "metadata": {
    "slideshow": {
     "slide_type": "slide"
    }
   },
   "source": [
    "## Color maps and Styles\n",
    "\n",
    "- [Color maps](https://matplotlib.org/3.3.1/tutorials/colors/colormaps.html#sphx-glr-tutorials-colors-colormaps-py), abreviated `cmap`, map numeric values (of a certain range) to colors.\n",
    "- [style sheets](https://matplotlib.org/3.3.1/gallery/style_sheets/style_sheets_reference.html#sphx-glr-gallery-style-sheets-style-sheets-reference-py) define several aspects at once"
   ]
  },
  {
   "cell_type": "markdown",
   "metadata": {
    "slideshow": {
     "slide_type": "slide"
    }
   },
   "source": [
    "## Scientific Figures - Case Study"
   ]
  },
  {
   "cell_type": "markdown",
   "metadata": {
    "slideshow": {
     "slide_type": "subslide"
    }
   },
   "source": [
    "### Plot some (calibration) curves"
   ]
  },
  {
   "cell_type": "code",
   "execution_count": null,
   "metadata": {
    "slideshow": {
     "slide_type": "fragment"
    }
   },
   "outputs": [],
   "source": [
    "x = np.linspace(0, 2, 100)\n",
    "\n",
    "plt.plot(x, x, label=\"linear\")\n",
    "plt.plot(x, x ** 2, label=\"quadratic\")\n",
    "plt.plot(x, x ** 3, label=\"cubic\")\n",
    "\n",
    "plt.xlabel(\"x label\")\n",
    "plt.ylabel(\"y label\")\n",
    "\n",
    "plt.title(\"Simple Measurment Plots\")\n",
    "\n",
    "plt.legend()\n",
    "\n",
    "plt.show()"
   ]
  },
  {
   "cell_type": "markdown",
   "metadata": {
    "slideshow": {
     "slide_type": "subslide"
    }
   },
   "source": [
    "### Plot error bars on bar plot \n",
    "\n",
    "Let's plot some performance metrics\n",
    "\n",
    "1. Use seaborn on original data\n",
    "2. Calculate errors yourself and add it to the mean"
   ]
  },
  {
   "cell_type": "markdown",
   "metadata": {
    "slideshow": {
     "slide_type": "subslide"
    }
   },
   "source": [
    "### Seaborn\n",
    "\n",
    "- [docs](https://seaborn.pydata.org/)"
   ]
  },
  {
   "cell_type": "code",
   "execution_count": null,
   "metadata": {
    "slideshow": {
     "slide_type": "fragment"
    }
   },
   "outputs": [],
   "source": [
    "# Load your own data and adapt it to the example from the section on plotting from matplotlib, seaborn and pandas in one figure\n",
    "# sns.barplot(data=None, ax=None)"
   ]
  },
  {
   "cell_type": "markdown",
   "metadata": {
    "slideshow": {
     "slide_type": "subslide"
    }
   },
   "source": [
    "### Calculate error bars yourself"
   ]
  },
  {
   "cell_type": "code",
   "execution_count": null,
   "metadata": {
    "slideshow": {
     "slide_type": "fragment"
    }
   },
   "outputs": [],
   "source": [
    "x = np.arange(1, 11)\n",
    "y1 = np.array([4, 5, 6, 7, 20, 33, 44, 55, 66, 77])\n",
    "fig, ax = plt.subplots(nrows=1, ncols=1, figsize=(10, 7))\n",
    "\n",
    "yerr = y1 * np.random.random(len(y1))\n",
    "\n",
    "ax.errorbar(x, y1, yerr=yerr, marker='o', capsize=5, ecolor='black')"
   ]
  },
  {
   "cell_type": "code",
   "execution_count": null,
   "metadata": {
    "slideshow": {
     "slide_type": "fragment"
    }
   },
   "outputs": [],
   "source": [
    "y1_series = pd.Series(y1, index=range(1, 11))\n",
    "y1_series.plot()  # reproduce the above plot"
   ]
  },
  {
   "cell_type": "markdown",
   "metadata": {
    "slideshow": {
     "slide_type": "subslide"
    }
   },
   "source": [
    "### Plot receiver operating curves (ROC) with their area under the curve (AUC) averages\n",
    "\n",
    "- scikit learn [scikit-learn example](https://scikit-learn.org/stable/auto_examples/model_selection/plot_roc.html#sphx-glr-auto-examples-model-selection-plot-roc-py)"
   ]
  },
  {
   "cell_type": "code",
   "execution_count": null,
   "metadata": {
    "slideshow": {
     "slide_type": "fragment"
    }
   },
   "outputs": [],
   "source": [
    "two_curves_tpr_fnr_threshold = [\n",
    "    (np.array([0., 0., 0., 0., 0.03125, 0.03125, 0.0625,\n",
    "               0.0625, 0.09375, 0.09375, 0.25, 0.25, 0.3125, 0.3125,\n",
    "               0.34375, 0.34375, 0.40625, 0.4375, 0.5, 0.5, 0.53125,\n",
    "               0.5625, 0.71875, 0.78125, 0.96875, 1.]),\n",
    "     np.array([0., 0.05, 0.1, 0.475, 0.475, 0.525, 0.525, 0.55, 0.575,\n",
    "               0.675, 0.675, 0.75, 0.75, 0.8, 0.8, 0.825, 0.825, 0.85,\n",
    "               0.875, 0.9, 0.9, 0.925, 0.925, 0.925, 0.925, 1.]),\n",
    "     np.array([1.99999331, 0.99999331, 0.99998854, 0.91223666, 0.84963339,\n",
    "               0.8353687, 0.68986971, 0.65838198, 0.63379411, 0.52059319,\n",
    "               0.44464182, 0.42263138, 0.4052373, 0.39234362, 0.38807793,\n",
    "               0.37538563, 0.37119168, 0.36701706, 0.3628623, 0.35872791,\n",
    "               0.35052229, 0.34240416, 0.30324951, 0.29947508, 0.25636921,\n",
    "               0.17784229])\n",
    "     ),\n",
    "    (np.array([0., 0., 0., 0., 0.,\n",
    "               0.03333333, 0.03333333, 0.06666667, 0.06666667, 0.06666667,\n",
    "               0.1, 0.1, 0.13333333, 0.13333333, 0.16666667,\n",
    "               0.26666667, 0.26666667, 0.33333333, 0.4, 0.43333333,\n",
    "               0.43333333, 0.53333333, 0.63333333, 0.63333333, 0.7,\n",
    "               0.73333333, 0.8, 0.8, 1., 1.]),\n",
    "     np.array([0., 0.02380952, 0.28571429, 0.33333333, 0.42857143,\n",
    "               0.45238095, 0.47619048, 0.47619048, 0.54761905, 0.5952381,\n",
    "               0.61904762, 0.64285714, 0.64285714, 0.69047619, 0.71428571,\n",
    "               0.71428571, 0.76190476, 0.76190476, 0.76190476, 0.78571429,\n",
    "               0.88095238, 0.88095238, 0.88095238, 0.9047619, 0.9047619,\n",
    "               0.9047619, 0.9047619, 0.92857143, 0.92857143, 1.]),\n",
    "     np.array([1.99998948, 0.99998948, 0.97677558, 0.96747665, 0.63481054,\n",
    "               0.6267451, 0.61451484, 0.61040487, 0.55146471, 0.54717785,\n",
    "               0.52565108, 0.52133169, 0.51700907, 0.50835687, 0.50402855,\n",
    "               0.49537078, 0.48671579, 0.43513235, 0.4181907, 0.41398366,\n",
    "               0.38902387, 0.36463261, 0.3606304, 0.33703732, 0.33317917,\n",
    "               0.3255299, 0.32173955, 0.31422917, 0.26785577, 0.17872516])\n",
    "     )\n",
    "]"
   ]
  },
  {
   "cell_type": "code",
   "execution_count": null,
   "metadata": {
    "slideshow": {
     "slide_type": "fragment"
    }
   },
   "outputs": [],
   "source": [
    "from sklearn.metrics import roc_curve, auc\n",
    "\n",
    "\n",
    "def plot_roc_curve(ax, runs_roc_auc_scores, endpoint=\"\"):\n",
    "    tprs = []\n",
    "    base_fpr = np.linspace(0, 1, 101)\n",
    "    roc_aucs = []\n",
    "    for fpr, tpr, threshold in runs_roc_auc_scores:\n",
    "        roc_auc = auc(fpr, tpr)\n",
    "        roc_aucs.append(roc_auc)\n",
    "\n",
    "        ax.plot(fpr, tpr, \"royalblue\", alpha=0.05)\n",
    "\n",
    "        tpr = np.interp(base_fpr, fpr, tpr)\n",
    "        tpr[0] = 0.0\n",
    "        tprs.append(tpr)\n",
    "\n",
    "    tprs = np.array(tprs)\n",
    "    mean_tprs = tprs.mean(axis=0)\n",
    "    std = tprs.std(axis=0)\n",
    "\n",
    "    tprs_upper = mean_tprs + std\n",
    "    tprs_lower = mean_tprs - std\n",
    "\n",
    "    mean_rocauc = np.mean(roc_aucs).round(2)\n",
    "    sd_rocauc = np.std(roc_aucs).round(2)\n",
    "    se_rocauc = sd_rocauc / np.sqrt(len(roc_aucs))\n",
    "\n",
    "    CI = (mean_rocauc - 1.96 * se_rocauc, mean_rocauc + 1.96 * se_rocauc)\n",
    "\n",
    "    ax.plot(\n",
    "        base_fpr,\n",
    "        mean_tprs,\n",
    "        color=\"royalblue\",\n",
    "        label=\"Mean ROC\\n(AUC = {}±{})\".format(mean_rocauc, sd_rocauc),\n",
    "    )\n",
    "    ax.fill_between(\n",
    "        base_fpr, tprs_lower, tprs_upper, color=\"grey\", alpha=0.4, label=\"±1 std. dev\"\n",
    "    )\n",
    "\n",
    "    ax.plot([0, 1], [0, 1], \"r--\")\n",
    "    ax.set_xlim([-0.01, 1.02])\n",
    "    ax.set_ylim([-0.01, 1.02])\n",
    "    ax.set_ylabel(\"True Positive Rate\", fontsize=15)\n",
    "    ax.set_xlabel(\"False Positive Rate\", fontsize=15)\n",
    "    ax.tick_params(labelsize=15)\n",
    "    ax.legend(fontsize=12)\n",
    "    ax.set_title(\"{}\\nAUCs\".format(endpoint), fontsize=15)\n",
    "    # print(\"95% CI:{}\".format(CI))\n",
    "    return ax"
   ]
  },
  {
   "cell_type": "code",
   "execution_count": null,
   "metadata": {
    "slideshow": {
     "slide_type": "fragment"
    }
   },
   "outputs": [],
   "source": [
    "fig, ax = plt.subplots()\n",
    "_ = plot_roc_curve(\n",
    "    ax=ax, runs_roc_auc_scores=two_curves_tpr_fnr_threshold, endpoint='Target')"
   ]
  },
  {
   "cell_type": "markdown",
   "metadata": {
    "slideshow": {
     "slide_type": "slide"
    }
   },
   "source": [
    "## Remarks\n",
    "- matplotlib is powerful and thus maybe frighting in the beginning\n",
    "- many issues and technical details are still a mistery for me\n",
    "- this notebook is not a reference, please browse the offical documentation for latest news\n",
    "    - links to examples are referenced in (hopefully) by hyperlinks"
   ]
  },
  {
   "cell_type": "code",
   "execution_count": null,
   "metadata": {
    "slideshow": {
     "slide_type": "skip"
    }
   },
   "outputs": [],
   "source": []
  }
 ],
 "metadata": {
  "celltoolbar": "Slideshow",
  "kernelspec": {
   "display_name": "Python 3",
   "language": "python",
   "name": "python3"
  },
  "language_info": {
   "codemirror_mode": {
    "name": "ipython",
    "version": 3
   },
   "file_extension": ".py",
   "mimetype": "text/x-python",
   "name": "python",
   "nbconvert_exporter": "python",
   "pygments_lexer": "ipython3",
   "version": "3.9.2"
  },
  "rise": {
   "scroll": true
  },
  "toc": {
   "base_numbering": 1,
   "nav_menu": {},
   "number_sections": true,
   "sideBar": true,
   "skip_h1_title": false,
   "title_cell": "Table of Contents",
   "title_sidebar": "Contents",
   "toc_cell": false,
   "toc_position": {},
   "toc_section_display": true,
   "toc_window_display": false
  },
  "toc-autonumbering": true
 },
 "nbformat": 4,
 "nbformat_minor": 4
}
